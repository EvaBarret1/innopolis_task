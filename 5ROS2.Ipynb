1. Узел обнаружения объектов на изображениях:
import rclpy
from rclpy.node import Node
from sensor_msgs.msg import Image
from detection_msgs.msg import BoundingBox, ObjectDetection
import cv2
import numpy as np

class ObjectDetectionNode(Node):
    def __init__(self):
        super().__init__('object_detection')
        self.subscription = self.create_subscription(
            Image, 'camera/image_raw', self.image_callback, 10)
        self.publisher = self.create_publisher(
            ObjectDetection, 'object_detections', 10)
        self.bridge = CvBridge()
        self.model = self.load_pretrained_model()

    def load_pretrained_model(self):
        # Загрузка предварительно обученной модели для обнаружения объектов на изображениях
        model = cv2.dnn.readNetFromTensorflow('path/to/model.pb', 'path/to/model.pbtxt')
        return model

    def image_callback(self, msg):
        image = self.bridge.imgmsg_to_cv2(msg, "bgr8")
        blob = cv2.dnn.blobFromImage(image, size=(300, 300), swapRB=True, crop=False)
        self.model.setInput(blob)
        detections = self.model.forward()

        detection_msg = ObjectDetection()
        for i in range(detections.shape[2]):
            confidence = detections[0, 0, i, 2]
            if confidence > 0.5:
                x = int(detections[0, 0, i, 3] * image.shape[1])
                y = int(detections[0, 0, i, 4] * image.shape[0])
                width = int(detections[0, 0, i, 5] * image.shape[1]) - x
                height = int(detections[0, 0, i, 6] * image.shape[0]) - y
                class_id = int(detections[0, 0, i, 1])

                box_msg = BoundingBox()
                box_msg.x = x
                box_msg.y = y
                box_msg.width = width
                box_msg.height = height
                box_msg.class_id = class_id
                box_msg.score = confidence
                detection_msg.bounding_boxes.append(box_msg)

        self.publisher.publish(detection_msg)

def main(args=None):
    rclpy.init(args=args)
    node = ObjectDetectionNode()
    rclpy.spin(node)
    rclpy.shutdown()

if __name__ == '__main__':
    main()

